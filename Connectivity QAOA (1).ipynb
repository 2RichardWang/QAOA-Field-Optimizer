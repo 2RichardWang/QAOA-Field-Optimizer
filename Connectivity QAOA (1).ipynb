{
 "cells": [
  {
   "cell_type": "code",
   "execution_count": 2,
   "id": "052e8306",
   "metadata": {},
   "outputs": [],
   "source": [
    "import networkx as nx\n",
    "import numpy as np\n",
    "import plotly.graph_objects as go\n",
    "import matplotlib as mpl\n",
    "import pandas as pd\n",
    "from IPython.display import clear_output\n",
    "from plotly.subplots import make_subplots\n",
    "from matplotlib import pyplot as plt\n",
    "from qiskit import Aer\n",
    "from qiskit import QuantumCircuit\n",
    "from qiskit.visualization import plot_state_city\n",
    "from qiskit.algorithms.optimizers import COBYLA, SLSQP, ADAM\n",
    "from time import time\n",
    "from copy import copy\n",
    "from typing import List\n",
    "from qc_grader.graph_util import display_maxcut_widget, QAOA_widget, graphs\n",
    "from qiskit_optimization import QuadraticProgram\n",
    "mpl.rcParams['figure.dpi'] = 300\n",
    "\n",
    "# Loading your IBM Quantum account(s)\n",
    "#provider = IBMQ.load_account()"
   ]
  },
  {
   "cell_type": "code",
   "execution_count": 3,
   "id": "5336bd42",
   "metadata": {},
   "outputs": [
    {
     "data": {
      "application/vnd.jupyter.widget-view+json": {
       "model_id": "91f0e03d40e1425b8b82c0ba91726215",
       "version_major": 2,
       "version_minor": 0
      },
      "text/plain": [
       "CytoscapeWidget(cytoscape_layout={'name': 'cola'}, cytoscape_style=[{'selector': 'node', 'css': {'background-c…"
      ]
     },
     "metadata": {},
     "output_type": "display_data"
    },
    {
     "data": {
      "application/vnd.jupyter.widget-view+json": {
       "model_id": "7618c774690548868d85fa4199983cea",
       "version_major": 2,
       "version_minor": 0
      },
      "text/plain": [
       "Output()"
      ]
     },
     "metadata": {},
     "output_type": "display_data"
    }
   ],
   "source": [
    "graph = nx.Graph()\n",
    "#Add nodes and edges\n",
    "graph.add_nodes_from(np.arange(0,6,1))\n",
    "\n",
    "\n",
    "LRTs = [52,4,80,103,17,32,140,26,77,8,91,84,60]\n",
    "\n",
    "\n",
    "\n",
    "edges = [(0,1,52.0),(0,2,4.0),(0,3,80.0),(0,4,103.0),(0,5,17.0),(1,2,32.0),(1,3,140.0),(1,4,26.0),\n",
    "         (1,5,77.0),(2,4,8.0),(2,5,91.0),(3,4,84.0),(3,5,60.0)]\n",
    "graph.add_weighted_edges_from(edges)\n",
    "graphs['custom'] = graph\n",
    "#Display widget\n",
    "display_maxcut_widget(graphs['custom'])"
   ]
  },
  {
   "cell_type": "code",
   "execution_count": 4,
   "id": "3f03a5ae",
   "metadata": {},
   "outputs": [],
   "source": [
    "def maxcut_cost_fn(graph: nx.Graph, bitstring: List[int]) -> float:\n",
    "    \"\"\"\n",
    "    Computes the maxcut cost function value for a given graph and cut represented by some bitstring\n",
    "    Args:\n",
    "        graph: The graph to compute cut values for\n",
    "        bitstring: A list of integer values '0' or '1' specifying a cut of the graph\n",
    "    Returns:\n",
    "        The value of the cut\n",
    "    \"\"\"\n",
    "    #Get the weight matrix of the graph\n",
    "    weight_matrix = nx.adjacency_matrix(graph).toarray()\n",
    "    size = weight_matrix.shape[0]\n",
    "    value = 0.\n",
    "\n",
    "    #INSERT YOUR CODE TO COMPUTE THE CUT VALUE HERE\n",
    "    for m in range(size): \n",
    "        for n in range(size):\n",
    "            value += weight_matrix[m,n] * bitstring[m] * (1-bitstring[n])\n",
    "\n",
    "    return value\n",
    "\n",
    "def plot_maxcut_histogram(graph: nx.Graph) -> None:\n",
    "    \"\"\"\n",
    "    Plots a bar diagram with the values for all possible cuts of a given graph.\n",
    "    Args:\n",
    "        graph: The graph to compute cut values for\n",
    "    \"\"\"\n",
    "    num_vars = graph.number_of_nodes()\n",
    "    #Create list of bitstrings and corresponding cut values\n",
    "    bitstrings = ['{:b}'.format(i).rjust(num_vars, '0')[::-1] for i in range(2**num_vars)]\n",
    "    values = [maxcut_cost_fn(graph = graph, bitstring = [int(x) for x in bitstring]) for bitstring in bitstrings]\n",
    "    #Sort both lists by largest cut value\n",
    "    values, bitstrings = zip(*sorted(zip(values, bitstrings)))\n",
    "    #Plot bar diagram\n",
    "    bar_plot = go.Bar(x = bitstrings, y = values, marker=dict(color=values, colorscale = 'plasma', colorbar=dict(title='Cut Value')))\n",
    "    fig = go.Figure(data=bar_plot, layout = dict(xaxis=dict(type = 'category'), width = 1500, height = 600))\n",
    "    fig.show()\n"
   ]
  },
  {
   "cell_type": "code",
   "execution_count": 18,
   "id": "c03c073d",
   "metadata": {},
   "outputs": [
    {
     "name": "stdout",
     "output_type": "stream",
     "text": [
      "Traceback \u001b[1;36m(most recent call last)\u001b[0m:\n",
      "  File \u001b[0;32m\"<ipython-input-18-9bd2fdc5e55e>\"\u001b[0m, line \u001b[0;32m1\u001b[0m, in \u001b[0;35m<module>\u001b[0m\n",
      "    plot_maxcut_histogram(graph = graphs['custom'])\n",
      "  File \u001b[0;32m\"<ipython-input-17-42f1fa5e66c0>\"\u001b[0m, line \u001b[0;32m31\u001b[0m, in \u001b[0;35mplot_maxcut_histogram\u001b[0m\n",
      "    values = [maxcut_cost_fn(graph = graph, bitstring = [int(x) for x in bitstring]) for bitstring in bitstrings]\n",
      "  File \u001b[0;32m\"<ipython-input-17-42f1fa5e66c0>\"\u001b[0m, line \u001b[0;32m31\u001b[0m, in \u001b[0;35m<listcomp>\u001b[0m\n",
      "    values = [maxcut_cost_fn(graph = graph, bitstring = [int(x) for x in bitstring]) for bitstring in bitstrings]\n",
      "\u001b[1;36m  File \u001b[1;32m\"<ipython-input-17-42f1fa5e66c0>\"\u001b[1;36m, line \u001b[1;32m16\u001b[1;36m, in \u001b[1;35mmaxcut_cost_fn\u001b[1;36m\u001b[0m\n",
      "\u001b[1;33m    for m in range(bitstring):\u001b[0m\n",
      "\u001b[1;31mTypeError\u001b[0m\u001b[1;31m:\u001b[0m 'list' object cannot be interpreted as an integer\n",
      "\n",
      "Use %tb to get the full traceback.\n"
     ]
    },
    {
     "data": {
      "text/html": [
       "\n",
       "<style>\n",
       ".button {\n",
       "  border: none;\n",
       "  color: white;\n",
       "  padding: 4px 8px;\n",
       "  text-align: center;\n",
       "  text-decoration: none;\n",
       "  display: inline-block;\n",
       "  font-size: 12px;\n",
       "  margin: 4px 2px;\n",
       "  transition-duration: 0.2s;\n",
       "  cursor: pointer;\n",
       "}\n",
       ".iqx-button {\n",
       "  background-color: #0f62fe; \n",
       "  color: white; \n",
       "}\n",
       ".iqx-button:hover {\n",
       "  background-color: #0043ce;\n",
       "  color: white;\n",
       "}\n",
       "</style>\n",
       "<a href=\"https://stackoverflow.com/search?q=TypeError: 'list' object cannot be interpreted as an integer\" target='_blank'><button class='button iqx-button'>Search for solution online</button></a>\n"
      ],
      "text/plain": [
       "<IPython.core.display.HTML object>"
      ]
     },
     "metadata": {},
     "output_type": "display_data"
    }
   ],
   "source": [
    "plot_maxcut_histogram(graph = graphs['custom'])"
   ]
  },
  {
   "cell_type": "code",
   "execution_count": null,
   "id": "5f9aca7b",
   "metadata": {},
   "outputs": [],
   "source": [
    "def quadratic_program_from_graph(graph: nx.Graph) -> QuadraticProgram:\n",
    "    \"\"\"Constructs a quadratic program from a given graph for a MaxCut problem instance.\n",
    "    Args:\n",
    "        graph: Underlying graph of the problem.\n",
    "    Returns:\n",
    "        QuadraticProgram\n",
    "    \"\"\"\n",
    "    #Get weight matrix of graph\n",
    "    weight_matrix = nx.adjacency_matrix(graph)\n",
    "    shape = weight_matrix.shape\n",
    "    size = shape[0]\n",
    "    #Build qubo matrix Q from weight matrix W\n",
    "    qubo_matrix = np.zeros((size, size))\n",
    "    qubo_vector = np.zeros(size)\n",
    "    for i in range(size):\n",
    "        for j in range(size):\n",
    "            qubo_matrix[i, j] -= weight_matrix[i, j]\n",
    "    for i in range(size):\n",
    "        for j in range(size):\n",
    "            qubo_vector[i] += weight_matrix[i,j]\n",
    "\n",
    "    #INSERT YOUR CODE HERE\n",
    "    quadratic_program = QuadraticProgram('MAXCUT')\n",
    "    \n",
    "    quadratic_program.binary_var(name = 'x_0')\n",
    "    quadratic_program.binary_var(name = 'x_1')\n",
    "    quadratic_program.binary_var(name = 'x_2')\n",
    "    quadratic_program.binary_var(name = 'x_3')\n",
    "    quadratic_program.binary_var(name = 'x_4')\n",
    "    quadratic_program.binary_var(name = 'W_0')\n",
    "    quadratic_program.binary_var(name = 'W_1')\n",
    "    quadratic_program.binary_var(name = 'W_2')\n",
    "    quadratic_program.binary_var(name = 'W_3')\n",
    "    quadratic_program.binary_var(name = 'W_4')\n",
    "    \n",
    "    \n",
    "    quadratic = qubo_matrix\n",
    "    linear = qubo_vector\n",
    "    quadratic_program.maximize(quadratic = qubo_matrix, linear = qubo_vector)\n",
    "    \n",
    "    return quadratic_program"
   ]
  }
 ],
 "metadata": {
  "kernelspec": {
   "display_name": "Python 3",
   "language": "python",
   "name": "python3"
  },
  "language_info": {
   "codemirror_mode": {
    "name": "ipython",
    "version": 3
   },
   "file_extension": ".py",
   "mimetype": "text/x-python",
   "name": "python",
   "nbconvert_exporter": "python",
   "pygments_lexer": "ipython3",
   "version": "3.8.8"
  },
  "widgets": {
   "application/vnd.jupyter.widget-state+json": {
    "state": {
     "03077cc865de4b2c952a9ca1262216b0": {
      "model_module": "jupyter-cytoscape",
      "model_module_version": "^1.2.2",
      "model_name": "EdgeModel",
      "state": {
       "_model_module_version": "^1.2.2",
       "_view_module_version": "^1.2.2",
       "data": {
        "source": "3",
        "target": "5",
        "weight": 60
       },
       "selectable": false
      }
     },
     "14fd41d01b10459fbc490027585ad969": {
      "model_module": "jupyter-cytoscape",
      "model_module_version": "^1.2.2",
      "model_name": "NodeModel",
      "state": {
       "_model_module_version": "^1.2.2",
       "_view_module_version": "^1.2.2",
       "data": {
        "id": "3"
       },
       "grabbable": true,
       "grabbed": false,
       "selectable": false
      }
     },
     "159fe9ef1b824a909f7fb0b8bf197150": {
      "model_module": "jupyter-cytoscape",
      "model_module_version": "^1.2.2",
      "model_name": "EdgeModel",
      "state": {
       "_model_module_version": "^1.2.2",
       "_view_module_version": "^1.2.2",
       "data": {
        "source": "1",
        "target": "2",
        "weight": 32
       },
       "selectable": false
      }
     },
     "17fbd764f7954e07a172a8ab67c1b616": {
      "model_module": "jupyter-cytoscape",
      "model_module_version": "^1.2.2",
      "model_name": "EdgeModel",
      "state": {
       "_model_module_version": "^1.2.2",
       "_view_module_version": "^1.2.2",
       "data": {
        "source": "1",
        "target": "5",
        "weight": 77
       },
       "selectable": false
      }
     },
     "1802192e9ea94f828b09d8993a593d42": {
      "model_module": "@jupyter-widgets/base",
      "model_module_version": "1.2.0",
      "model_name": "LayoutModel",
      "state": {}
     },
     "26b0fa73082749689c922915cf874ac1": {
      "model_module": "jupyter-cytoscape",
      "model_module_version": "^1.2.2",
      "model_name": "NodeModel",
      "state": {
       "_model_module_version": "^1.2.2",
       "_view_module_version": "^1.2.2",
       "data": {
        "id": "1"
       },
       "grabbable": true,
       "grabbed": false,
       "selectable": false
      }
     },
     "283b05bfa00248688a364fb495dd000c": {
      "model_module": "jupyter-cytoscape",
      "model_module_version": "^1.2.2",
      "model_name": "NodeModel",
      "state": {
       "_model_module_version": "^1.2.2",
       "_view_module_version": "^1.2.2",
       "data": {
        "id": "2"
       },
       "grabbable": true,
       "grabbed": false,
       "selectable": false
      }
     },
     "2fedaf05151348df8cf34950be5609fb": {
      "model_module": "jupyter-cytoscape",
      "model_module_version": "^1.2.2",
      "model_name": "EdgeModel",
      "state": {
       "_model_module_version": "^1.2.2",
       "_view_module_version": "^1.2.2",
       "data": {
        "source": "0",
        "target": "5",
        "weight": 17
       },
       "selectable": false
      }
     },
     "327e1378f7de4c2d8ffa5b409ed68d7a": {
      "model_module": "@jupyter-widgets/base",
      "model_module_version": "1.2.0",
      "model_name": "LayoutModel",
      "state": {}
     },
     "39213d86e76f42e88ed64d10291c41c0": {
      "model_module": "jupyter-cytoscape",
      "model_module_version": "^1.2.2",
      "model_name": "NodeModel",
      "state": {
       "_model_module_version": "^1.2.2",
       "_view_module_version": "^1.2.2",
       "data": {
        "id": "4"
       },
       "grabbable": true,
       "grabbed": false,
       "selectable": false
      }
     },
     "39c2b0a5f8c543ad9f1a113de7ddc7f5": {
      "model_module": "jupyter-cytoscape",
      "model_module_version": "^1.2.2",
      "model_name": "EdgeModel",
      "state": {
       "_model_module_version": "^1.2.2",
       "_view_module_version": "^1.2.2",
       "data": {
        "source": "0",
        "target": "1",
        "weight": 52
       },
       "selectable": false
      }
     },
     "39d0e61b141a409896385c727ba2435f": {
      "model_module": "jupyter-cytoscape",
      "model_module_version": "^1.2.2",
      "model_name": "GraphModel",
      "state": {
       "_adj": {
        "0": {
         "1": 1,
         "2": 1,
         "3": 1,
         "4": 1,
         "5": 1
        },
        "1": {
         "0": 1,
         "2": 1,
         "3": 1,
         "4": 1,
         "5": 1
        },
        "2": {
         "0": 1,
         "1": 1,
         "4": 1,
         "5": 1
        },
        "3": {
         "0": 1,
         "1": 1,
         "4": 1,
         "5": 1
        },
        "4": {
         "0": 1,
         "1": 1,
         "2": 1,
         "3": 1
        },
        "5": {
         "0": 1,
         "1": 1,
         "2": 1,
         "3": 1
        }
       },
       "_model_module_version": "^1.2.2",
       "_view_module": "jupyter-cytoscape",
       "_view_module_version": "^1.2.2",
       "edges": [
        "IPY_MODEL_4b51b880f8384f2ea25c6c9922ba88a1",
        "IPY_MODEL_7c745668f5b5422297ea13b23f3f46a5",
        "IPY_MODEL_7b1a5f6761964b30950ebd83f5ba867b",
        "IPY_MODEL_d4fb777d4a8240509a7a7adb42d7539d",
        "IPY_MODEL_bf0db2ca53fe404c9182eef99a1af34a",
        "IPY_MODEL_bff7392dbc394533b8fb6d46aeed72fd",
        "IPY_MODEL_7d6fb9af2151464cb277aef09d718051",
        "IPY_MODEL_ed5e9110e551414fbd6cd3396d72650d",
        "IPY_MODEL_e878f80dfd73484d99eed948d11982fd",
        "IPY_MODEL_ab41e565d9a34f0d89ca087d848b350c",
        "IPY_MODEL_f11f04d1047e4e92ba4f0118da2efdbc",
        "IPY_MODEL_6a6d2849a0f24f46befe795717094728",
        "IPY_MODEL_03077cc865de4b2c952a9ca1262216b0"
       ],
       "nodes": [
        "IPY_MODEL_e560766d16aa487ca4f545e0a75ac73d",
        "IPY_MODEL_26b0fa73082749689c922915cf874ac1",
        "IPY_MODEL_494c6211a66e4ca3a55bd09815b249b1",
        "IPY_MODEL_da1d420cdfb34fa2a75536969a656f2b",
        "IPY_MODEL_39213d86e76f42e88ed64d10291c41c0",
        "IPY_MODEL_9e0fd28e92eb46b7aacbf49c2a505859"
       ]
      }
     },
     "3e17cbe434634c6e9d4c67e6d7f769f8": {
      "model_module": "jupyter-cytoscape",
      "model_module_version": "^1.2.2",
      "model_name": "EdgeModel",
      "state": {
       "_model_module_version": "^1.2.2",
       "_view_module_version": "^1.2.2",
       "data": {
        "source": "0",
        "target": "3",
        "weight": 80
       },
       "selectable": false
      }
     },
     "487eec62998844f6a621af041f89d01b": {
      "model_module": "jupyter-cytoscape",
      "model_module_version": "^1.2.2",
      "model_name": "NodeModel",
      "state": {
       "_model_module_version": "^1.2.2",
       "_view_module_version": "^1.2.2",
       "data": {
        "id": "4"
       },
       "grabbable": true,
       "grabbed": false,
       "selectable": false
      }
     },
     "494c6211a66e4ca3a55bd09815b249b1": {
      "model_module": "jupyter-cytoscape",
      "model_module_version": "^1.2.2",
      "model_name": "NodeModel",
      "state": {
       "_model_module_version": "^1.2.2",
       "_view_module_version": "^1.2.2",
       "data": {
        "id": "2"
       },
       "grabbable": true,
       "grabbed": false,
       "selectable": false
      }
     },
     "4b51b880f8384f2ea25c6c9922ba88a1": {
      "model_module": "jupyter-cytoscape",
      "model_module_version": "^1.2.2",
      "model_name": "EdgeModel",
      "state": {
       "_model_module_version": "^1.2.2",
       "_view_module_version": "^1.2.2",
       "data": {
        "source": "0",
        "target": "1",
        "weight": 52
       },
       "selectable": false
      }
     },
     "53369e84bcaa4225b08b6b74f8e9f456": {
      "model_module": "jupyter-cytoscape",
      "model_module_version": "^1.2.2",
      "model_name": "EdgeModel",
      "state": {
       "_model_module_version": "^1.2.2",
       "_view_module_version": "^1.2.2",
       "data": {
        "source": "2",
        "target": "5",
        "weight": 91
       },
       "selectable": false
      }
     },
     "570e37992d0a4a50978bd95a067f2ef2": {
      "model_module": "@jupyter-widgets/base",
      "model_module_version": "1.2.0",
      "model_name": "LayoutModel",
      "state": {}
     },
     "65320069b1014b8082e8824688ded537": {
      "model_module": "jupyter-cytoscape",
      "model_module_version": "^1.2.2",
      "model_name": "EdgeModel",
      "state": {
       "_model_module_version": "^1.2.2",
       "_view_module_version": "^1.2.2",
       "data": {
        "source": "3",
        "target": "4",
        "weight": 84
       },
       "selectable": false
      }
     },
     "682371c1893c4aa78d45afbd539a367a": {
      "model_module": "jupyter-cytoscape",
      "model_module_version": "^1.2.2",
      "model_name": "CytoscapeModel",
      "state": {
       "_interaction_handlers": {
        "edge": [
         "click"
        ],
        "node": [
         "click"
        ]
       },
       "_model_module_version": "^1.2.2",
       "_view_module_version": "^1.2.2",
       "auto_ungrabify": false,
       "autolock": false,
       "cytoscape_layout": {
        "name": "cola"
       },
       "cytoscape_style": [
        {
         "css": {
          "background-color": "#33B1FF"
         },
         "selector": "node"
        },
        {
         "css": {
          "label": "data(weight)",
          "line-color": "#DFDFDF"
         },
         "selector": "edge"
        }
       ],
       "desktop_tap_threshold": 4,
       "graph": "IPY_MODEL_39d0e61b141a409896385c727ba2435f",
       "headless": false,
       "hide_edges_on_viewport": false,
       "layout": "IPY_MODEL_327e1378f7de4c2d8ffa5b409ed68d7a",
       "max_zoom": 1e+50,
       "min_zoom": 1e-50,
       "motion_blur": false,
       "motion_blur_opacity": 0.2,
       "panning_enabled": true,
       "pixel_ratio": "auto",
       "rendered_position": {
        "renderedPosition": {
         "x": 100,
         "y": 100
        }
       },
       "selection_type": "single",
       "style_enabled": true,
       "texture_on_viewport": false,
       "tooltip_source": "tooltip",
       "touch_tap_threshold": 8,
       "user_panning_enabled": true,
       "user_zooming_enabled": true,
       "wheel_sensitivity": 1,
       "zoom": 2,
       "zooming_enabled": true
      }
     },
     "6a6d2849a0f24f46befe795717094728": {
      "model_module": "jupyter-cytoscape",
      "model_module_version": "^1.2.2",
      "model_name": "EdgeModel",
      "state": {
       "_model_module_version": "^1.2.2",
       "_view_module_version": "^1.2.2",
       "data": {
        "source": "3",
        "target": "4",
        "weight": 84
       },
       "selectable": false
      }
     },
     "7618c774690548868d85fa4199983cea": {
      "model_module": "@jupyter-widgets/output",
      "model_module_version": "1.0.0",
      "model_name": "OutputModel",
      "state": {
       "layout": "IPY_MODEL_570e37992d0a4a50978bd95a067f2ef2"
      }
     },
     "772aeb230db1480d8f58630b66f77942": {
      "model_module": "jupyter-cytoscape",
      "model_module_version": "^1.2.2",
      "model_name": "NodeModel",
      "state": {
       "_model_module_version": "^1.2.2",
       "_view_module_version": "^1.2.2",
       "data": {
        "id": "0"
       },
       "grabbable": true,
       "grabbed": false,
       "selectable": false
      }
     },
     "7b1a5f6761964b30950ebd83f5ba867b": {
      "model_module": "jupyter-cytoscape",
      "model_module_version": "^1.2.2",
      "model_name": "EdgeModel",
      "state": {
       "_model_module_version": "^1.2.2",
       "_view_module_version": "^1.2.2",
       "data": {
        "source": "0",
        "target": "3",
        "weight": 80
       },
       "selectable": false
      }
     },
     "7c745668f5b5422297ea13b23f3f46a5": {
      "model_module": "jupyter-cytoscape",
      "model_module_version": "^1.2.2",
      "model_name": "EdgeModel",
      "state": {
       "_model_module_version": "^1.2.2",
       "_view_module_version": "^1.2.2",
       "data": {
        "source": "0",
        "target": "2",
        "weight": 4
       },
       "selectable": false
      }
     },
     "7d6fb9af2151464cb277aef09d718051": {
      "model_module": "jupyter-cytoscape",
      "model_module_version": "^1.2.2",
      "model_name": "EdgeModel",
      "state": {
       "_model_module_version": "^1.2.2",
       "_view_module_version": "^1.2.2",
       "data": {
        "source": "1",
        "target": "3",
        "weight": 140
       },
       "selectable": false
      }
     },
     "87b184d6b8d14b6a975730b3cbc1efe6": {
      "model_module": "jupyter-cytoscape",
      "model_module_version": "^1.2.2",
      "model_name": "EdgeModel",
      "state": {
       "_model_module_version": "^1.2.2",
       "_view_module_version": "^1.2.2",
       "data": {
        "source": "1",
        "target": "4",
        "weight": 26
       },
       "selectable": false
      }
     },
     "91f0e03d40e1425b8b82c0ba91726215": {
      "model_module": "jupyter-cytoscape",
      "model_module_version": "^1.2.2",
      "model_name": "CytoscapeModel",
      "state": {
       "_interaction_handlers": {
        "edge": [
         "click"
        ],
        "node": [
         "click"
        ]
       },
       "_model_module_version": "^1.2.2",
       "_view_module_version": "^1.2.2",
       "auto_ungrabify": false,
       "autolock": false,
       "cytoscape_layout": {
        "name": "cola"
       },
       "cytoscape_style": [
        {
         "css": {
          "background-color": "#33B1FF"
         },
         "selector": "node"
        },
        {
         "css": {
          "label": "data(weight)",
          "line-color": "#DFDFDF"
         },
         "selector": "edge"
        }
       ],
       "desktop_tap_threshold": 4,
       "graph": "IPY_MODEL_a69d482db24740e08000ff6e6b317285",
       "headless": false,
       "hide_edges_on_viewport": false,
       "layout": "IPY_MODEL_1802192e9ea94f828b09d8993a593d42",
       "max_zoom": 1e+50,
       "min_zoom": 1e-50,
       "motion_blur": false,
       "motion_blur_opacity": 0.2,
       "panning_enabled": true,
       "pixel_ratio": "auto",
       "rendered_position": {
        "renderedPosition": {
         "x": 100,
         "y": 100
        }
       },
       "selection_type": "single",
       "style_enabled": true,
       "texture_on_viewport": false,
       "tooltip_source": "tooltip",
       "touch_tap_threshold": 8,
       "user_panning_enabled": true,
       "user_zooming_enabled": true,
       "wheel_sensitivity": 1,
       "zoom": 2,
       "zooming_enabled": true
      }
     },
     "9e0fd28e92eb46b7aacbf49c2a505859": {
      "model_module": "jupyter-cytoscape",
      "model_module_version": "^1.2.2",
      "model_name": "NodeModel",
      "state": {
       "_model_module_version": "^1.2.2",
       "_view_module_version": "^1.2.2",
       "data": {
        "id": "5"
       },
       "grabbable": true,
       "grabbed": false,
       "selectable": false
      }
     },
     "9f9eeed3333b4e459e4ddc42ae05a219": {
      "model_module": "@jupyter-widgets/output",
      "model_module_version": "1.0.0",
      "model_name": "OutputModel",
      "state": {
       "layout": "IPY_MODEL_adf93c27750948838426deea28cc6e52"
      }
     },
     "9fbc5be49678472d8934ecdf643206cd": {
      "model_module": "jupyter-cytoscape",
      "model_module_version": "^1.2.2",
      "model_name": "NodeModel",
      "state": {
       "_model_module_version": "^1.2.2",
       "_view_module_version": "^1.2.2",
       "data": {
        "id": "1"
       },
       "grabbable": true,
       "grabbed": false,
       "selectable": false
      }
     },
     "a471b779ebf345d495af332e2033cbb3": {
      "model_module": "jupyter-cytoscape",
      "model_module_version": "^1.2.2",
      "model_name": "GraphModel",
      "state": {
       "_adj": {},
       "_model_module_version": "^1.2.2",
       "_view_module": "jupyter-cytoscape",
       "_view_module_version": "^1.2.2"
      }
     },
     "a69d482db24740e08000ff6e6b317285": {
      "model_module": "jupyter-cytoscape",
      "model_module_version": "^1.2.2",
      "model_name": "GraphModel",
      "state": {
       "_adj": {
        "0": {
         "1": 1,
         "2": 1,
         "3": 1,
         "4": 1,
         "5": 1
        },
        "1": {
         "0": 1,
         "2": 1,
         "3": 1,
         "4": 1,
         "5": 1
        },
        "2": {
         "0": 1,
         "1": 1,
         "4": 1,
         "5": 1
        },
        "3": {
         "0": 1,
         "1": 1,
         "4": 1,
         "5": 1
        },
        "4": {
         "0": 1,
         "1": 1,
         "2": 1,
         "3": 1
        },
        "5": {
         "0": 1,
         "1": 1,
         "2": 1,
         "3": 1
        }
       },
       "_model_module_version": "^1.2.2",
       "_view_module": "jupyter-cytoscape",
       "_view_module_version": "^1.2.2",
       "edges": [
        "IPY_MODEL_39c2b0a5f8c543ad9f1a113de7ddc7f5",
        "IPY_MODEL_fc128d8d32dd422186341fc89b3012dd",
        "IPY_MODEL_3e17cbe434634c6e9d4c67e6d7f769f8",
        "IPY_MODEL_d02c2115c890414fa1cd5b2881d6efc8",
        "IPY_MODEL_2fedaf05151348df8cf34950be5609fb",
        "IPY_MODEL_159fe9ef1b824a909f7fb0b8bf197150",
        "IPY_MODEL_bc616010990e47dca5d3df2143ece082",
        "IPY_MODEL_87b184d6b8d14b6a975730b3cbc1efe6",
        "IPY_MODEL_17fbd764f7954e07a172a8ab67c1b616",
        "IPY_MODEL_e535659c28cd48fd85b2d3f3efe783ee",
        "IPY_MODEL_53369e84bcaa4225b08b6b74f8e9f456",
        "IPY_MODEL_65320069b1014b8082e8824688ded537",
        "IPY_MODEL_d58de51c58764429868642acb89eee81"
       ],
       "nodes": [
        "IPY_MODEL_772aeb230db1480d8f58630b66f77942",
        "IPY_MODEL_9fbc5be49678472d8934ecdf643206cd",
        "IPY_MODEL_283b05bfa00248688a364fb495dd000c",
        "IPY_MODEL_14fd41d01b10459fbc490027585ad969",
        "IPY_MODEL_487eec62998844f6a621af041f89d01b",
        "IPY_MODEL_e86c7c876984420fa0c7a68c19993a35"
       ]
      }
     },
     "ab41e565d9a34f0d89ca087d848b350c": {
      "model_module": "jupyter-cytoscape",
      "model_module_version": "^1.2.2",
      "model_name": "EdgeModel",
      "state": {
       "_model_module_version": "^1.2.2",
       "_view_module_version": "^1.2.2",
       "data": {
        "source": "2",
        "target": "4",
        "weight": 8
       },
       "selectable": false
      }
     },
     "adf93c27750948838426deea28cc6e52": {
      "model_module": "@jupyter-widgets/base",
      "model_module_version": "1.2.0",
      "model_name": "LayoutModel",
      "state": {}
     },
     "bc616010990e47dca5d3df2143ece082": {
      "model_module": "jupyter-cytoscape",
      "model_module_version": "^1.2.2",
      "model_name": "EdgeModel",
      "state": {
       "_model_module_version": "^1.2.2",
       "_view_module_version": "^1.2.2",
       "data": {
        "source": "1",
        "target": "3",
        "weight": 140
       },
       "selectable": false
      }
     },
     "bf0db2ca53fe404c9182eef99a1af34a": {
      "model_module": "jupyter-cytoscape",
      "model_module_version": "^1.2.2",
      "model_name": "EdgeModel",
      "state": {
       "_model_module_version": "^1.2.2",
       "_view_module_version": "^1.2.2",
       "data": {
        "source": "0",
        "target": "5",
        "weight": 17
       },
       "selectable": false
      }
     },
     "bff7392dbc394533b8fb6d46aeed72fd": {
      "model_module": "jupyter-cytoscape",
      "model_module_version": "^1.2.2",
      "model_name": "EdgeModel",
      "state": {
       "_model_module_version": "^1.2.2",
       "_view_module_version": "^1.2.2",
       "data": {
        "source": "1",
        "target": "2",
        "weight": 32
       },
       "selectable": false
      }
     },
     "c371d27026ee407b8771c0fd3465060f": {
      "model_module": "jupyter-cytoscape",
      "model_module_version": "^1.2.2",
      "model_name": "GraphModel",
      "state": {
       "_adj": {},
       "_model_module_version": "^1.2.2",
       "_view_module": "jupyter-cytoscape",
       "_view_module_version": "^1.2.2"
      }
     },
     "d02c2115c890414fa1cd5b2881d6efc8": {
      "model_module": "jupyter-cytoscape",
      "model_module_version": "^1.2.2",
      "model_name": "EdgeModel",
      "state": {
       "_model_module_version": "^1.2.2",
       "_view_module_version": "^1.2.2",
       "data": {
        "source": "0",
        "target": "4",
        "weight": 103
       },
       "selectable": false
      }
     },
     "d4fb777d4a8240509a7a7adb42d7539d": {
      "model_module": "jupyter-cytoscape",
      "model_module_version": "^1.2.2",
      "model_name": "EdgeModel",
      "state": {
       "_model_module_version": "^1.2.2",
       "_view_module_version": "^1.2.2",
       "data": {
        "source": "0",
        "target": "4",
        "weight": 103
       },
       "selectable": false
      }
     },
     "d58de51c58764429868642acb89eee81": {
      "model_module": "jupyter-cytoscape",
      "model_module_version": "^1.2.2",
      "model_name": "EdgeModel",
      "state": {
       "_model_module_version": "^1.2.2",
       "_view_module_version": "^1.2.2",
       "data": {
        "source": "3",
        "target": "5",
        "weight": 60
       },
       "selectable": false
      }
     },
     "da1d420cdfb34fa2a75536969a656f2b": {
      "model_module": "jupyter-cytoscape",
      "model_module_version": "^1.2.2",
      "model_name": "NodeModel",
      "state": {
       "_model_module_version": "^1.2.2",
       "_view_module_version": "^1.2.2",
       "data": {
        "id": "3"
       },
       "grabbable": true,
       "grabbed": false,
       "selectable": false
      }
     },
     "e535659c28cd48fd85b2d3f3efe783ee": {
      "model_module": "jupyter-cytoscape",
      "model_module_version": "^1.2.2",
      "model_name": "EdgeModel",
      "state": {
       "_model_module_version": "^1.2.2",
       "_view_module_version": "^1.2.2",
       "data": {
        "source": "2",
        "target": "4",
        "weight": 8
       },
       "selectable": false
      }
     },
     "e560766d16aa487ca4f545e0a75ac73d": {
      "model_module": "jupyter-cytoscape",
      "model_module_version": "^1.2.2",
      "model_name": "NodeModel",
      "state": {
       "_model_module_version": "^1.2.2",
       "_view_module_version": "^1.2.2",
       "data": {
        "id": "0"
       },
       "grabbable": true,
       "grabbed": false,
       "selectable": false
      }
     },
     "e86c7c876984420fa0c7a68c19993a35": {
      "model_module": "jupyter-cytoscape",
      "model_module_version": "^1.2.2",
      "model_name": "NodeModel",
      "state": {
       "_model_module_version": "^1.2.2",
       "_view_module_version": "^1.2.2",
       "data": {
        "id": "5"
       },
       "grabbable": true,
       "grabbed": false,
       "selectable": false
      }
     },
     "e878f80dfd73484d99eed948d11982fd": {
      "model_module": "jupyter-cytoscape",
      "model_module_version": "^1.2.2",
      "model_name": "EdgeModel",
      "state": {
       "_model_module_version": "^1.2.2",
       "_view_module_version": "^1.2.2",
       "data": {
        "source": "1",
        "target": "5",
        "weight": 77
       },
       "selectable": false
      }
     },
     "ed5e9110e551414fbd6cd3396d72650d": {
      "model_module": "jupyter-cytoscape",
      "model_module_version": "^1.2.2",
      "model_name": "EdgeModel",
      "state": {
       "_model_module_version": "^1.2.2",
       "_view_module_version": "^1.2.2",
       "data": {
        "source": "1",
        "target": "4",
        "weight": 26
       },
       "selectable": false
      }
     },
     "f11f04d1047e4e92ba4f0118da2efdbc": {
      "model_module": "jupyter-cytoscape",
      "model_module_version": "^1.2.2",
      "model_name": "EdgeModel",
      "state": {
       "_model_module_version": "^1.2.2",
       "_view_module_version": "^1.2.2",
       "data": {
        "source": "2",
        "target": "5",
        "weight": 91
       },
       "selectable": false
      }
     },
     "fc128d8d32dd422186341fc89b3012dd": {
      "model_module": "jupyter-cytoscape",
      "model_module_version": "^1.2.2",
      "model_name": "EdgeModel",
      "state": {
       "_model_module_version": "^1.2.2",
       "_view_module_version": "^1.2.2",
       "data": {
        "source": "0",
        "target": "2",
        "weight": 4
       },
       "selectable": false
      }
     }
    },
    "version_major": 2,
    "version_minor": 0
   }
  }
 },
 "nbformat": 4,
 "nbformat_minor": 5
}
